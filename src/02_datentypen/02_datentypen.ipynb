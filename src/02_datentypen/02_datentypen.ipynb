{
 "cells": [
  {
   "cell_type": "markdown",
   "metadata": {},
   "source": [
    "# Kapitel 2: Datentypen und Datenstrukturen 📊\n",
    "\n",
    "Willkommen zum interaktiven Tutorial über Python-Datentypen! In diesem Jupyter Notebook lernen Sie alle wichtigen Datentypen kennen, die Sie für die Datenanalyse bei Bystronic benötigen."
   ]
  },
  {
   "cell_type": "markdown",
   "metadata": {},
   "source": [
    "## 1. Primitive Datentypen 🔢"
   ]
  },
  {
   "cell_type": "markdown",
   "metadata": {},
   "source": [
    "### 1.1 Zahlen (Numbers)"
   ]
  },
  {
   "cell_type": "code",
   "execution_count": null,
   "metadata": {},
   "outputs": [],
   "source": [
    "# Integer (Ganze Zahlen)\n",
    "anzahl_maschinen = 12\n",
    "mitarbeiter_anzahl = 450\n",
    "negative_zahl = -25\n",
    "\n",
    "print(f\"Anzahl Maschinen: {anzahl_maschinen} (Typ: {type(anzahl_maschinen)})\")\n",
    "print(f\"Mitarbeiter: {mitarbeiter_anzahl} (Typ: {type(mitarbeiter_anzahl)})\")\n",
    "print(f\"Negative Zahl: {negative_zahl} (Typ: {type(negative_zahl)})\")"
   ]
  },
  {
   "cell_type": "code",
   "execution_count": null,
   "metadata": {},
   "outputs": [],
   "source": [
    "# Float (Fliesskommazahlen)\n",
    "materialdicke = 2.5  # mm\n",
    "temperatur = 1250.75  # Grad Celsius\n",
    "pi = 3.14159\n",
    "wissenschaftlich = 1.23e-4  # 0.000123\n",
    "\n",
    "print(f\"Materialdicke: {materialdicke}mm (Typ: {type(materialdicke)})\")\n",
    "print(f\"Temperatur: {temperatur}°C (Typ: {type(temperatur)})\")\n",
    "print(f\"Pi: {pi} (Typ: {type(pi)})\")\n",
    "print(f\"Wissenschaftlich: {wissenschaftlich} (Typ: {type(wissenschaftlich)})\")"
   ]
  },
  {
   "cell_type": "code",
   "execution_count": null,
   "metadata": {},
   "outputs": [],
   "source": [
    "# Complex (Komplexe Zahlen)\n",
    "impedanz = 3 + 4j  # Elektrische Impedanz\n",
    "komplex_1 = complex(2, 3)  # 2 + 3j\n",
    "\n",
    "print(f\"Impedanz: {impedanz} (Typ: {type(impedanz)})\")\n",
    "print(f\"Realteil: {impedanz.real}, Imaginärteil: {impedanz.imag}\")\n",
    "print(f\"Komplex 1: {komplex_1} (Typ: {type(komplex_1)})\")"
   ]
  },
  {
   "cell_type": "code",
   "execution_count": null,
   "metadata": {},
   "outputs": [],
   "source": [
    "# Boolean (Wahrheitswerte)\n",
    "maschine_aktiv = True\n",
    "wartung_noetig = False\n",
    "qualitaet_ok = 2.5 <= materialdicke <= 3.0\n",
    "\n",
    "print(f\"Maschine aktiv: {maschine_aktiv} (Typ: {type(maschine_aktiv)})\")\n",
    "print(f\"Wartung nötig: {wartung_noetig} (Typ: {type(wartung_noetig)})\")\n",
    "print(f\"Qualität OK: {qualitaet_ok} (Typ: {type(qualitaet_ok)})\")\n",
    "\n",
    "# Boolean in Zahlen umwandeln\n",
    "print(f\"\\nTrue als Zahl: {int(True)}\")\n",
    "print(f\"False als Zahl: {int(False)}\")"
   ]
  },
  {
   "cell_type": "markdown",
   "metadata": {},
   "source": [
    "### 1.2 Mathematische Operationen"
   ]
  },
  {
   "cell_type": "code",
   "execution_count": null,
   "metadata": {},
   "outputs": [],
   "source": [
    "# Grundrechenarten\n",
    "a = 15\n",
    "b = 4\n",
    "\n",
    "print(\"Grundrechenarten:\")\n",
    "print(f\"{a} + {b} = {a + b}\")\n",
    "print(f\"{a} - {b} = {a - b}\")\n",
    "print(f\"{a} * {b} = {a * b}\")\n",
    "print(f\"{a} / {b} = {a / b}\")\n",
    "print(f\"{a} // {b} = {a // b}\")  # Ganzzahldivision\n",
    "print(f\"{a} % {b} = {a % b}\")  # Modulo (Rest)\n",
    "print(f\"{a} ** {b} = {a**b}\")  # Potenz"
   ]
  },
  {
   "cell_type": "code",
   "execution_count": null,
   "metadata": {},
   "outputs": [],
   "source": [
    "# Nützliche mathematische Funktionen\n",
    "import math\n",
    "\n",
    "zahl = -15.67\n",
    "print(f\"Absolute Wert von {zahl}: {abs(zahl)}\")\n",
    "print(f\"Aufrunden: {math.ceil(zahl)}\")\n",
    "print(f\"Abrunden: {math.floor(zahl)}\")\n",
    "print(f\"Runden: {round(zahl, 1)}\")\n",
    "print(f\"Wurzel von 16: {math.sqrt(16)}\")\n",
    "print(f\"Logarithmus von 100: {math.log10(100)}\")"
   ]
  },
  {
   "cell_type": "markdown",
   "metadata": {},
   "source": [
    "## 2. Strings (Text) 📝"
   ]
  },
  {
   "cell_type": "markdown",
   "metadata": {},
   "source": [
    "### 2.1 String-Erstellung und -Eigenschaften"
   ]
  },
  {
   "cell_type": "code",
   "execution_count": null,
   "metadata": {},
   "outputs": [],
   "source": [
    "# Verschiedene Arten Strings zu erstellen\n",
    "firma = \"Bystronic\"\n",
    "standort = \"Niederönz\"\n",
    "beschreibung = \"\"\"Bystronic ist ein führender\n",
    "Anbieter von Blechbearbeitungsmaschinen\n",
    "und Automatisierungslösungen.\"\"\"\n",
    "\n",
    "print(f\"Firma: {firma}\")\n",
    "print(f\"Standort: {standort}\")\n",
    "print(f\"Beschreibung: {beschreibung}\")\n",
    "print(f\"\\nLänge von '{firma}': {len(firma)} Zeichen\")"
   ]
  },
  {
   "cell_type": "code",
   "execution_count": null,
   "metadata": {},
   "outputs": [],
   "source": [
    "# String-Indexierung und Slicing\n",
    "maschine = \"ByStar Fiber 6kW\"\n",
    "\n",
    "print(f\"Original: {maschine}\")\n",
    "print(f\"Erstes Zeichen: {maschine[0]}\")\n",
    "print(f\"Letztes Zeichen: {maschine[-1]}\")\n",
    "print(f\"Erste 6 Zeichen: {maschine[:6]}\")\n",
    "print(f\"Ab Position 7: {maschine[7:]}\")\n",
    "print(f\"Mittlerer Teil: {maschine[7:12]}\")\n",
    "print(f\"Jeden 2. Buchstaben: {maschine[::2]}\")"
   ]
  },
  {
   "cell_type": "markdown",
   "metadata": {},
   "source": [
    "### 2.2 String-Methoden"
   ]
  },
  {
   "cell_type": "code",
   "execution_count": null,
   "metadata": {},
   "outputs": [],
   "source": [
    "# Wichtige String-Methoden\n",
    "text = \"  BYSTRONIC laser cutting machine  \"\n",
    "\n",
    "print(f\"Original: '{text}'\")\n",
    "print(f\"Kleinbuchstaben: '{text.lower()}'\")\n",
    "print(f\"Grossbuchstaben: '{text.upper()}'\")\n",
    "print(f\"Titel-Format: '{text.title()}'\")\n",
    "print(f\"Leerzeichen entfernt: '{text.strip()}'\")\n",
    "print(f\"Ersetzt: '{text.replace('laser', 'plasma')}'\")\n",
    "print(f\"Aufgeteilt: {text.strip().split(' ')}\")"
   ]
  },
  {
   "cell_type": "code",
   "execution_count": null,
   "metadata": {},
   "outputs": [],
   "source": [
    "# String-Formatierung (verschiedene Methoden)\n",
    "name = \"Max Mustermann\"\n",
    "alter = 35\n",
    "gehalt = 75000.50\n",
    "\n",
    "# f-Strings (modern, empfohlen)\n",
    "print(f\"Mitarbeiter: {name}, Alter: {alter}, Gehalt: {gehalt:.2f}€\")\n",
    "\n",
    "# .format() Methode\n",
    "print(\"Mitarbeiter: {}, Alter: {}, Gehalt: {:.2f}€\".format(name, alter, gehalt))\n",
    "\n",
    "# % Formatierung (alt, aber manchmal noch verwendet)\n",
    "print(\"Mitarbeiter: %s, Alter: %d, Gehalt: %.2f€\" % (name, alter, gehalt))"
   ]
  },
  {
   "cell_type": "markdown",
   "metadata": {},
   "source": [
    "### 2.3 String-Validierung"
   ]
  },
  {
   "cell_type": "code",
   "execution_count": null,
   "metadata": {},
   "outputs": [],
   "source": [
    "# String-Prüfungen\n",
    "teil_nummer = \"P12345\"\n",
    "email = \"max.mustermann@bystronic.com\"\n",
    "nummer = \"12345\"\n",
    "\n",
    "print(f\"'{teil_nummer}' beginnt mit 'P': {teil_nummer.startswith('P')}\")\n",
    "print(f\"'{email}' enthält '@': {'@' in email}\")\n",
    "print(f\"'{nummer}' ist numerisch: {nummer.isnumeric()}\")\n",
    "print(f\"'{teil_nummer}' ist alphanumerisch: {teil_nummer.isalnum()}\")\n",
    "print(f\"'{email}' endet mit '.com': {email.endswith('.com')}\")"
   ]
  },
  {
   "cell_type": "markdown",
   "metadata": {},
   "source": [
    "## 3. Listen (Lists) 📋"
   ]
  },
  {
   "cell_type": "markdown",
   "metadata": {},
   "source": [
    "### 3.1 Listen erstellen und verwenden"
   ]
  },
  {
   "cell_type": "code",
   "execution_count": null,
   "metadata": {},
   "outputs": [],
   "source": [
    "# Listen erstellen\n",
    "maschinen = [\"Laser\", \"Presse\", \"Stanze\", \"Schweissroboter\"]\n",
    "produktionszeiten = [8.5, 7.2, 9.1, 6.8, 8.0]\n",
    "gemischte_liste = [\"Bystronic\", 2024, True, 3.14, [1, 2, 3]]\n",
    "leere_liste = []\n",
    "\n",
    "print(f\"Maschinen: {maschinen}\")\n",
    "print(f\"Produktionszeiten: {produktionszeiten}\")\n",
    "print(f\"Gemischte Liste: {gemischte_liste}\")\n",
    "print(f\"Anzahl Maschinen: {len(maschinen)}\")"
   ]
  },
  {
   "cell_type": "code",
   "execution_count": null,
   "metadata": {},
   "outputs": [],
   "source": [
    "# Zugriff auf Listenelemente\n",
    "print(f\"Erste Maschine: {maschinen[0]}\")\n",
    "print(f\"Letzte Maschine: {maschinen[-1]}\")\n",
    "print(f\"Erste zwei Maschinen: {maschinen[:2]}\")\n",
    "print(f\"Letzte zwei Maschinen: {maschinen[-2:]}\")\n",
    "\n",
    "# Listen sind veränderbar (mutable)\n",
    "maschinen[1] = \"Biegemaschine\"\n",
    "print(f\"Nach Änderung: {maschinen}\")"
   ]
  },
  {
   "cell_type": "markdown",
   "metadata": {},
   "source": [
    "### 3.2 Listen-Methoden"
   ]
  },
  {
   "cell_type": "code",
   "execution_count": null,
   "metadata": {},
   "outputs": [],
   "source": [
    "# Elemente hinzufügen und entfernen\n",
    "standorte = [\"Bern\", \"Niederönz\"]\n",
    "print(f\"Ursprünglich: {standorte}\")\n",
    "\n",
    "# Hinzufügen\n",
    "standorte.append(\"Sulgen\")  # Am Ende hinzufügen\n",
    "print(f\"Nach append: {standorte}\")\n",
    "\n",
    "standorte.insert(1, \"Zürich\")  # An Position 1 einfügen\n",
    "print(f\"Nach insert: {standorte}\")\n",
    "\n",
    "standorte.extend([\"München\", \"Chicago\"])  # Mehrere hinzufügen\n",
    "print(f\"Nach extend: {standorte}\")\n",
    "\n",
    "# Entfernen\n",
    "standorte.remove(\"Zürich\")  # Erstes Vorkommen entfernen\n",
    "print(f\"Nach remove: {standorte}\")\n",
    "\n",
    "letzter = standorte.pop()  # Letztes Element entfernen und zurückgeben\n",
    "print(f\"Entfernter Standort: {letzter}\")\n",
    "print(f\"Nach pop: {standorte}\")"
   ]
  },
  {
   "cell_type": "code",
   "execution_count": null,
   "metadata": {},
   "outputs": [],
   "source": [
    "# Listen sortieren und durchsuchen\n",
    "zahlen = [3, 1, 4, 1, 5, 9, 2, 6]\n",
    "print(f\"Original: {zahlen}\")\n",
    "\n",
    "# Sortieren\n",
    "zahlen_sortiert = sorted(zahlen)  # Neue sortierte Liste\n",
    "print(f\"Sortiert (neu): {zahlen_sortiert}\")\n",
    "\n",
    "zahlen.sort()  # Originale Liste sortieren\n",
    "print(f\"Sortiert (original): {zahlen}\")\n",
    "\n",
    "zahlen.sort(reverse=True)  # Rückwärts sortieren\n",
    "print(f\"Rückwärts: {zahlen}\")\n",
    "\n",
    "# Suchen und zählen\n",
    "print(f\"Index von 5: {zahlen.index(5)}\")\n",
    "print(f\"Anzahl von 1: {zahlen.count(1)}\")\n",
    "print(f\"Maximum: {max(zahlen)}\")\n",
    "print(f\"Minimum: {min(zahlen)}\")\n",
    "print(f\"Summe: {sum(zahlen)}\")"
   ]
  },
  {
   "cell_type": "markdown",
   "metadata": {},
   "source": [
    "### 3.3 List Comprehensions (Listenverständnis)"
   ]
  },
  {
   "cell_type": "code",
   "execution_count": null,
   "metadata": {},
   "outputs": [],
   "source": [
    "# List Comprehensions - elegante Art Listen zu erstellen\n",
    "zahlen = [1, 2, 3, 4, 5, 6, 7, 8, 9, 10]\n",
    "\n",
    "# Quadratzahlen\n",
    "quadrate = [x**2 for x in zahlen]\n",
    "print(f\"Quadratzahlen: {quadrate}\")\n",
    "\n",
    "# Nur gerade Zahlen\n",
    "gerade = [x for x in zahlen if x % 2 == 0]\n",
    "print(f\"Gerade Zahlen: {gerade}\")\n",
    "\n",
    "# Temperaturen von Celsius zu Fahrenheit\n",
    "celsius = [0, 20, 25, 30, 100]\n",
    "fahrenheit = [c * 9 / 5 + 32 for c in celsius]\n",
    "print(f\"Celsius: {celsius}\")\n",
    "print(f\"Fahrenheit: {fahrenheit}\")\n",
    "\n",
    "# Maschinentypen filtern\n",
    "alle_maschinen = [\"Laser\", \"Presse\", \"Stanze\", \"Laserreinigung\", \"Laserschweissen\"]\n",
    "laser_maschinen = [m for m in alle_maschinen if \"Laser\" in m]\n",
    "print(f\"Laser-Maschinen: {laser_maschinen}\")"
   ]
  },
  {
   "cell_type": "markdown",
   "metadata": {},
   "source": [
    "## 4. Dictionaries (Wörterbücher) 📖"
   ]
  },
  {
   "cell_type": "markdown",
   "metadata": {},
   "source": [
    "### 4.1 Dictionary-Grundlagen"
   ]
  },
  {
   "cell_type": "code",
   "execution_count": null,
   "metadata": {},
   "outputs": [],
   "source": [
    "# Dictionary erstellen\n",
    "mitarbeiter = {\n",
    "    \"name\": \"Max Mustermann\",\n",
    "    \"alter\": 35,\n",
    "    \"abteilung\": \"Produktion\",\n",
    "    \"gehalt\": 75000,\n",
    "    \"aktiv\": True,\n",
    "}\n",
    "\n",
    "print(f\"Mitarbeiter: {mitarbeiter}\")\n",
    "print(f\"Name: {mitarbeiter['name']}\")\n",
    "print(f\"Abteilung: {mitarbeiter.get('abteilung')}\")\n",
    "print(f\"Telefon: {mitarbeiter.get('telefon', 'Nicht angegeben')}\")\n",
    "print(f\"Anzahl Eigenschaften: {len(mitarbeiter)}\")"
   ]
  },
  {
   "cell_type": "code",
   "execution_count": null,
   "metadata": {},
   "outputs": [],
   "source": [
    "# Dictionary-Operationen\n",
    "maschine = {\"typ\": \"ByStar Fiber\", \"leistung\": \"6kW\", \"baujahr\": 2020}\n",
    "\n",
    "print(f\"Original: {maschine}\")\n",
    "\n",
    "# Werte ändern und hinzufügen\n",
    "maschine[\"leistung\"] = \"8kW\"  # Wert ändern\n",
    "maschine[\"standort\"] = \"Halle A\"  # Neuen Schlüssel hinzufügen\n",
    "print(f\"Nach Änderung: {maschine}\")\n",
    "\n",
    "# Mehrere Werte auf einmal hinzufügen\n",
    "maschine.update({\"wartung_datum\": \"2024-03-15\", \"betriebsstunden\": 12500})\n",
    "print(f\"Nach update: {maschine}\")\n",
    "\n",
    "# Werte entfernen\n",
    "entfernt = maschine.pop(\"baujahr\")  # Entfernen und Wert zurückgeben\n",
    "print(f\"Entferntes Baujahr: {entfernt}\")\n",
    "print(f\"Nach pop: {maschine}\")"
   ]
  },
  {
   "cell_type": "markdown",
   "metadata": {},
   "source": [
    "### 4.2 Dictionary-Methoden und -Iteration"
   ]
  },
  {
   "cell_type": "code",
   "execution_count": null,
   "metadata": {},
   "outputs": [],
   "source": [
    "# Dictionary durchlaufen\n",
    "produktionsdaten = {\n",
    "    \"montag\": 150,\n",
    "    \"dienstag\": 180,\n",
    "    \"mittwoch\": 165,\n",
    "    \"donnerstag\": 195,\n",
    "    \"freitag\": 170,\n",
    "}\n",
    "\n",
    "print(\"Alle Schlüssel:\")\n",
    "for tag in produktionsdaten.keys():\n",
    "    print(f\"  {tag}\")\n",
    "\n",
    "print(\"\\nAlle Werte:\")\n",
    "for stueckzahl in produktionsdaten.values():\n",
    "    print(f\"  {stueckzahl} Stück\")\n",
    "\n",
    "print(\"\\nAlle Schlüssel-Wert-Paare:\")\n",
    "for tag, stueckzahl in produktionsdaten.items():\n",
    "    print(f\"  {tag}: {stueckzahl} Stück\")\n",
    "\n",
    "print(f\"\\nGesamtproduktion: {sum(produktionsdaten.values())} Stück\")"
   ]
  },
  {
   "cell_type": "markdown",
   "metadata": {},
   "source": [
    "### 4.3 Verschachtelte Dictionaries"
   ]
  },
  {
   "cell_type": "code",
   "execution_count": null,
   "metadata": {},
   "outputs": [],
   "source": [
    "# Komplexe Datenstrukturen mit verschachtelten Dictionaries\n",
    "firma = {\n",
    "    \"name\": \"Bystronic AG\",\n",
    "    \"standorte\": {\n",
    "        \"hauptsitz\": {\n",
    "            \"ort\": \"Niederönz\",\n",
    "            \"land\": \"Schweiz\",\n",
    "            \"mitarbeiter\": 350,\n",
    "            \"abteilungen\": [\"Entwicklung\", \"Produktion\", \"Vertrieb\"],\n",
    "        },\n",
    "        \"zweigstelle\": {\n",
    "            \"ort\": \"München\",\n",
    "            \"land\": \"Deutschland\",\n",
    "            \"mitarbeiter\": 120,\n",
    "            \"abteilungen\": [\"Vertrieb\", \"Service\"],\n",
    "        },\n",
    "    },\n",
    "    \"maschinen\": {\n",
    "        \"LASER_001\": {\n",
    "            \"typ\": \"ByStar Fiber\",\n",
    "            \"leistung\": \"6kW\",\n",
    "            \"status\": \"Aktiv\",\n",
    "            \"wartung\": {\n",
    "                \"letzter_service\": \"2024-01-15\",\n",
    "                \"naechster_service\": \"2024-07-15\",\n",
    "            },\n",
    "        }\n",
    "    },\n",
    "}\n",
    "\n",
    "# Zugriff auf verschachtelte Daten\n",
    "print(f\"Hauptsitz: {firma['standorte']['hauptsitz']['ort']}\")\n",
    "print(f\"Mitarbeiter München: {firma['standorte']['zweigstelle']['mitarbeiter']}\")\n",
    "print(f\"Laser Status: {firma['maschinen']['LASER_001']['status']}\")\n",
    "print(\n",
    "    f\"Nächste Wartung: {firma['maschinen']['LASER_001']['wartung']['naechster_service']}\"\n",
    ")"
   ]
  },
  {
   "cell_type": "markdown",
   "metadata": {},
   "source": [
    "## 5. Sets (Mengen) 🎯"
   ]
  },
  {
   "cell_type": "markdown",
   "metadata": {},
   "source": [
    "### 5.1 Set-Grundlagen"
   ]
  },
  {
   "cell_type": "code",
   "execution_count": null,
   "metadata": {},
   "outputs": [],
   "source": [
    "# Sets erstellen - nur eindeutige Elemente\n",
    "materialien = {\"Stahl\", \"Aluminium\", \"Edelstahl\", \"Kupfer\"}\n",
    "standorte = {\"Bern\", \"Niederönz\", \"Sulgen\", \"München\", \"Chicago\"}\n",
    "duplikate = {\"Laser\", \"Presse\", \"Stanze\"}  # Duplikate werden entfernt\n",
    "\n",
    "print(f\"Materialien: {materialien}\")\n",
    "print(f\"Standorte: {standorte}\")\n",
    "print(f\"Ohne Duplikate: {duplikate}\")\n",
    "print(f\"Anzahl Materialien: {len(materialien)}\")\n",
    "\n",
    "# Aus Liste erstellen\n",
    "messwerte = [1.2, 1.5, 1.2, 1.8, 1.5, 2.0, 1.2]\n",
    "eindeutige_werte = set(messwerte)\n",
    "print(f\"Eindeutige Messwerte: {eindeutige_werte}\")"
   ]
  },
  {
   "cell_type": "markdown",
   "metadata": {},
   "source": [
    "### 5.2 Set-Operationen"
   ]
  },
  {
   "cell_type": "code",
   "execution_count": null,
   "metadata": {},
   "outputs": [],
   "source": [
    "# Set-Operationen (Mengenoperationen)\n",
    "laser_materialien = {\"Stahl\", \"Aluminium\", \"Edelstahl\"}\n",
    "presse_materialien = {\"Aluminium\", \"Kupfer\", \"Messing\"}\n",
    "\n",
    "print(f\"Laser kann schneiden: {laser_materialien}\")\n",
    "print(f\"Presse kann verformen: {presse_materialien}\")\n",
    "\n",
    "# Vereinigung (Union) - alle Materialien\n",
    "alle_materialien = laser_materialien | presse_materialien\n",
    "# oder: alle_materialien = laser_materialien.union(presse_materialien)\n",
    "print(f\"\\nAlle Materialien: {alle_materialien}\")\n",
    "\n",
    "# Schnittmenge (Intersection) - gemeinsame Materialien\n",
    "gemeinsame = laser_materialien & presse_materialien\n",
    "# oder: gemeinsame = laser_materialien.intersection(presse_materialien)\n",
    "print(f\"Gemeinsame Materialien: {gemeinsame}\")\n",
    "\n",
    "# Differenz - nur für Laser\n",
    "nur_laser = laser_materialien - presse_materialien\n",
    "# oder: nur_laser = laser_materialien.difference(presse_materialien)\n",
    "print(f\"Nur für Laser: {nur_laser}\")\n",
    "\n",
    "# Symmetrische Differenz - entweder/oder\n",
    "entweder_oder = laser_materialien ^ presse_materialien\n",
    "print(f\"Entweder/oder: {entweder_oder}\")"
   ]
  },
  {
   "cell_type": "code",
   "execution_count": null,
   "metadata": {},
   "outputs": [],
   "source": [
    "# Set-Methoden\n",
    "qualifizierte_mitarbeiter = {\"Max\", \"Anna\", \"Peter\"}\n",
    "print(f\"Ursprünglich: {qualifizierte_mitarbeiter}\")\n",
    "\n",
    "# Hinzufügen und entfernen\n",
    "qualifizierte_mitarbeiter.add(\"Sarah\")  # Einzelnes Element hinzufügen\n",
    "print(f\"Nach add: {qualifizierte_mitarbeiter}\")\n",
    "\n",
    "qualifizierte_mitarbeiter.update([\"Tom\", \"Lisa\"])  # Mehrere hinzufügen\n",
    "print(f\"Nach update: {qualifizierte_mitarbeiter}\")\n",
    "\n",
    "qualifizierte_mitarbeiter.remove(\"Peter\")  # Entfernen (Fehler wenn nicht vorhanden)\n",
    "print(f\"Nach remove: {qualifizierte_mitarbeiter}\")\n",
    "\n",
    "qualifizierte_mitarbeiter.discard(\"Nicht_vorhanden\")  # Entfernen (kein Fehler)\n",
    "print(f\"Nach discard: {qualifizierte_mitarbeiter}\")\n",
    "\n",
    "# Prüfungen\n",
    "print(f\"\\nIst 'Max' qualifiziert: {'Max' in qualifizierte_mitarbeiter}\")\n",
    "print(f\"Ist 'Peter' qualifiziert: {'Peter' in qualifizierte_mitarbeiter}\")"
   ]
  },
  {
   "cell_type": "markdown",
   "metadata": {},
   "source": [
    "## 6. Tupel (Tuples) 📌"
   ]
  },
  {
   "cell_type": "markdown",
   "metadata": {},
   "source": [
    "### 6.1 Tupel-Grundlagen"
   ]
  },
  {
   "cell_type": "code",
   "execution_count": null,
   "metadata": {},
   "outputs": [],
   "source": [
    "# Tupel sind unveränderlich (immutable)\n",
    "koordinaten = (10.5, 20.8)\n",
    "maschinen_info = (\"ByStar Fiber\", 6, \"kW\", 2020, True)\n",
    "einzelwert = (42,)  # Komma für einzelnes Element nötig!\n",
    "ohne_klammern = \"Laser\", \"6kW\", \"Aktiv\"  # Auch ein Tupel\n",
    "\n",
    "print(f\"Koordinaten: {koordinaten} (Typ: {type(koordinaten)})\")\n",
    "print(f\"Maschinen-Info: {maschinen_info}\")\n",
    "print(f\"Einzelwert: {einzelwert}\")\n",
    "print(f\"Ohne Klammern: {ohne_klammern}\")\n",
    "\n",
    "# Zugriff wie bei Listen\n",
    "print(f\"\\nX-Koordinate: {koordinaten[0]}\")\n",
    "print(f\"Y-Koordinate: {koordinaten[1]}\")\n",
    "print(f\"Maschinentyp: {maschinen_info[0]}\")"
   ]
  },
  {
   "cell_type": "markdown",
   "metadata": {},
   "source": [
    "### 6.2 Tupel-Anwendungen"
   ]
  },
  {
   "cell_type": "code",
   "execution_count": null,
   "metadata": {},
   "outputs": [],
   "source": [
    "# Tupel für Funktionsrückgabe\n",
    "def berechne_kreisflaeche_umfang(radius):\n",
    "    \"\"\"Berechnet Fläche und Umfang eines Kreises\"\"\"\n",
    "    import math\n",
    "\n",
    "    flaeche = math.pi * radius**2\n",
    "    umfang = 2 * math.pi * radius\n",
    "    return flaeche, umfang  # Gibt Tupel zurück\n",
    "\n",
    "\n",
    "radius = 5.0\n",
    "flaeche, umfang = berechne_kreisflaeche_umfang(radius)  # Tupel entpacken\n",
    "print(f\"Radius: {radius}\")\n",
    "print(f\"Fläche: {flaeche:.2f}\")\n",
    "print(f\"Umfang: {umfang:.2f}\")\n",
    "\n",
    "# Als Dictionary-Schlüssel (da unveränderlich)\n",
    "maschinenpositionen = {\n",
    "    (0, 0): \"Laser Station 1\",\n",
    "    (10, 0): \"Laser Station 2\",\n",
    "    (0, 10): \"Biegestation\",\n",
    "    (10, 10): \"Qualitätskontrolle\",\n",
    "}\n",
    "\n",
    "print(f\"\\nStation bei (0,0): {maschinenpositionen[(0, 0)]}\")\n",
    "print(f\"Station bei (10,10): {maschinenpositionen[(10, 10)]}\")"
   ]
  },
  {
   "cell_type": "code",
   "execution_count": null,
   "metadata": {},
   "outputs": [],
   "source": [
    "# Tupel-Methoden (begrenzt, da unveränderlich)\n",
    "messwerte = (1.2, 1.5, 1.2, 1.8, 1.2, 2.0)\n",
    "print(f\"Messwerte: {messwerte}\")\n",
    "print(f\"Anzahl von 1.2: {messwerte.count(1.2)}\")\n",
    "print(f\"Index von 1.8: {messwerte.index(1.8)}\")\n",
    "print(f\"Länge: {len(messwerte)}\")\n",
    "\n",
    "# Tupel in Liste konvertieren für Bearbeitung\n",
    "liste = list(messwerte)\n",
    "liste.append(2.5)\n",
    "neues_tupel = tuple(liste)\n",
    "print(f\"Neues Tupel: {neues_tupel}\")"
   ]
  },
  {
   "cell_type": "markdown",
   "metadata": {},
   "source": [
    "## 7. Datentyp-Konvertierung 🔄"
   ]
  },
  {
   "cell_type": "code",
   "execution_count": null,
   "metadata": {},
   "outputs": [],
   "source": [
    "# Typkonvertierung zwischen den Grundtypen\n",
    "print(\"=== Zahlen ===\\n\")\n",
    "print(f\"int('42'): {int('42')}\")\n",
    "print(f\"float('3.14'): {float('3.14')}\")\n",
    "print(f\"str(42): '{str(42)}'\")\n",
    "print(f\"bool(1): {bool(1)}\")\n",
    "print(f\"bool(0): {bool(0)}\")\n",
    "\n",
    "print(\"\\n=== Collections ===\\n\")\n",
    "zahlen = [1, 2, 3, 4, 5]\n",
    "print(f\"Liste zu Tupel: {tuple(zahlen)}\")\n",
    "print(f\"Liste zu Set: {set(zahlen)}\")\n",
    "print(f\"String zu Liste: {list('Python')}\")\n",
    "\n",
    "# Dictionary zu Listen\n",
    "daten = {\"a\": 1, \"b\": 2, \"c\": 3}\n",
    "print(f\"Dict keys zu Liste: {list(daten.keys())}\")\n",
    "print(f\"Dict values zu Liste: {list(daten.values())}\")\n",
    "print(f\"Dict items zu Liste: {list(daten.items())}\")"
   ]
  },
  {
   "cell_type": "code",
   "execution_count": null,
   "metadata": {},
   "outputs": [],
   "source": [
    "# Fehlerbehandlung bei Konvertierung\n",
    "def sichere_int_konvertierung(wert):\n",
    "    \"\"\"Sichere Konvertierung zu Integer mit Fehlerbehandlung\"\"\"\n",
    "    try:\n",
    "        return int(wert)\n",
    "    except ValueError:\n",
    "        print(f\"Fehler: '{wert}' kann nicht zu Integer konvertiert werden\")\n",
    "        return None\n",
    "\n",
    "\n",
    "# Tests\n",
    "test_werte = [\"42\", \"3.14\", \"abc\", \"\"]\n",
    "for wert in test_werte:\n",
    "    ergebnis = sichere_int_konvertierung(wert)\n",
    "    print(f\"'{wert}' -> {ergebnis}\")"
   ]
  },
  {
   "cell_type": "markdown",
   "metadata": {},
   "source": [
    "## 8. Praktische Bystronic-Beispiele 🏭"
   ]
  },
  {
   "cell_type": "code",
   "execution_count": null,
   "metadata": {},
   "outputs": [],
   "source": [
    "# Beispiel 1: Produktionsdaten verwalten\n",
    "produktionsdaten = {\n",
    "    \"datum\": \"2024-03-15\",\n",
    "    \"schicht\": \"Tagschicht\",\n",
    "    \"maschinen\": {\n",
    "        \"LASER_001\": {\n",
    "            \"teile_produziert\": 145,\n",
    "            \"betriebszeit\": 8.5,\n",
    "            \"ausfallzeit\": 0.5,\n",
    "            \"materialverbrauch\": [\"Stahl: 250kg\", \"Edelstahl: 80kg\"],\n",
    "        },\n",
    "        \"PRESSE_002\": {\n",
    "            \"teile_produziert\": 89,\n",
    "            \"betriebszeit\": 7.8,\n",
    "            \"ausfallzeit\": 1.2,\n",
    "            \"materialverbrauch\": [\"Aluminium: 120kg\"],\n",
    "        },\n",
    "    },\n",
    "}\n",
    "\n",
    "# Auswertung\n",
    "gesamt_teile = sum(\n",
    "    daten[\"teile_produziert\"] for daten in produktionsdaten[\"maschinen\"].values()\n",
    ")\n",
    "gesamt_betriebszeit = sum(\n",
    "    daten[\"betriebszeit\"] for daten in produktionsdaten[\"maschinen\"].values()\n",
    ")\n",
    "\n",
    "print(f\"Produktionsbericht für {produktionsdaten['datum']}:\")\n",
    "print(f\"Schicht: {produktionsdaten['schicht']}\")\n",
    "print(f\"Gesamt produzierte Teile: {gesamt_teile}\")\n",
    "print(f\"Gesamt Betriebszeit: {gesamt_betriebszeit:.1f}h\")\n",
    "\n",
    "for maschine, daten in produktionsdaten[\"maschinen\"].items():\n",
    "    effizienz = (\n",
    "        daten[\"betriebszeit\"] / (daten[\"betriebszeit\"] + daten[\"ausfallzeit\"])\n",
    "    ) * 100\n",
    "    print(f\"\\n{maschine}:\")\n",
    "    print(f\"  Teile: {daten['teile_produziert']}\")\n",
    "    print(f\"  Effizienz: {effizienz:.1f}%\")\n",
    "    print(f\"  Material: {', '.join(daten['materialverbrauch'])}\")"
   ]
  },
  {
   "cell_type": "code",
   "execution_count": null,
   "metadata": {},
   "outputs": [],
   "source": [
    "# Beispiel 2: Qualitätskontrolle mit verschiedenen Datentypen\n",
    "class QualitaetsKontrolle:\n",
    "    def __init__(self):\n",
    "        self.messungen = []\n",
    "        self.toleranzen = {\n",
    "            \"dicke\": (1.8, 2.2),  # min, max in mm\n",
    "            \"breite\": (49.5, 50.5),  # min, max in mm\n",
    "            \"laenge\": (99.0, 101.0),  # min, max in mm\n",
    "        }\n",
    "        self.fehlerhafte_teile = set()\n",
    "\n",
    "    def messe_teil(self, teil_nr, dicke, breite, laenge):\n",
    "        \"\"\"Misst ein Teil und prüft Qualität\"\"\"\n",
    "        messung = {\n",
    "            \"teil_nr\": teil_nr,\n",
    "            \"dicke\": dicke,\n",
    "            \"breite\": breite,\n",
    "            \"laenge\": laenge,\n",
    "            \"timestamp\": \"2024-03-15 10:30:00\",\n",
    "        }\n",
    "\n",
    "        # Qualitätsprüfung\n",
    "        qualitaet_ok = True\n",
    "        fehler = []\n",
    "\n",
    "        for eigenschaft, wert in [\n",
    "            (\"dicke\", dicke),\n",
    "            (\"breite\", breite),\n",
    "            (\"laenge\", laenge),\n",
    "        ]:\n",
    "            min_wert, max_wert = self.toleranzen[eigenschaft]\n",
    "            if not (min_wert <= wert <= max_wert):\n",
    "                qualitaet_ok = False\n",
    "                fehler.append(f\"{eigenschaft}: {wert} (soll: {min_wert}-{max_wert})\")\n",
    "                self.fehlerhafte_teile.add(teil_nr)\n",
    "\n",
    "        messung[\"qualitaet_ok\"] = qualitaet_ok\n",
    "        messung[\"fehler\"] = fehler\n",
    "        self.messungen.append(messung)\n",
    "\n",
    "        return qualitaet_ok\n",
    "\n",
    "    def statistik(self):\n",
    "        \"\"\"Erstellt Qualitätsstatistik\"\"\"\n",
    "        if not self.messungen:\n",
    "            return \"Keine Messungen vorhanden\"\n",
    "\n",
    "        gesamt = len(self.messungen)\n",
    "        ok_teile = sum(1 for m in self.messungen if m[\"qualitaet_ok\"])\n",
    "        ausschuss_rate = ((gesamt - ok_teile) / gesamt) * 100\n",
    "\n",
    "        # Durchschnittswerte\n",
    "        avg_dicke = sum(m[\"dicke\"] for m in self.messungen) / gesamt\n",
    "        avg_breite = sum(m[\"breite\"] for m in self.messungen) / gesamt\n",
    "        avg_laenge = sum(m[\"laenge\"] for m in self.messungen) / gesamt\n",
    "\n",
    "        return {\n",
    "            \"gesamt_teile\": gesamt,\n",
    "            \"ok_teile\": ok_teile,\n",
    "            \"fehlerhafte_teile\": gesamt - ok_teile,\n",
    "            \"ausschuss_rate\": round(ausschuss_rate, 2),\n",
    "            \"durchschnitt\": {\n",
    "                \"dicke\": round(avg_dicke, 2),\n",
    "                \"breite\": round(avg_breite, 2),\n",
    "                \"laenge\": round(avg_laenge, 2),\n",
    "            },\n",
    "            \"fehlerhafte_teil_nummern\": list(self.fehlerhafte_teile),\n",
    "        }\n",
    "\n",
    "\n",
    "# Qualitätskontrolle simulieren\n",
    "qk = QualitaetsKontrolle()\n",
    "\n",
    "# Testmessungen\n",
    "testteile = [\n",
    "    (\"P001\", 2.05, 50.1, 100.2),  # OK\n",
    "    (\"P002\", 1.75, 50.0, 99.8),  # Dicke zu gering\n",
    "    (\"P003\", 2.15, 50.3, 100.1),  # OK\n",
    "    (\"P004\", 2.0, 50.8, 99.5),  # Breite zu gross\n",
    "    (\"P005\", 1.95, 49.8, 100.0),  # OK\n",
    "]\n",
    "\n",
    "print(\"Qualitätskontrolle Bystronic\\n\" + \"=\" * 30)\n",
    "\n",
    "for teil_nr, dicke, breite, laenge in testteile:\n",
    "    ist_ok = qk.messe_teil(teil_nr, dicke, breite, laenge)\n",
    "    status = \"✅ OK\" if ist_ok else \"❌ Fehler\"\n",
    "    print(f\"{teil_nr}: {status} (Dicke: {dicke}, Breite: {breite}, Länge: {laenge})\")\n",
    "\n",
    "print(\"\\nStatistik:\")\n",
    "statistik = qk.statistik()\n",
    "for key, value in statistik.items():\n",
    "    print(f\"{key}: {value}\")"
   ]
  },
  {
   "cell_type": "markdown",
   "metadata": {},
   "source": [
    "## 🎯 Zusammenfassung\n",
    "\n",
    "In diesem Kapitel haben Sie gelernt:\n",
    "\n",
    "### Primitive Datentypen\n",
    "- **int, float, complex**: Zahlen für Berechnungen\n",
    "- **str**: Texte und String-Manipulation\n",
    "- **bool**: Wahrheitswerte für Logik\n",
    "\n",
    "### Collections (Sammlungen)\n",
    "- **list**: Veränderbare, geordnete Sammlungen\n",
    "- **tuple**: Unveränderbare, geordnete Sammlungen\n",
    "- **dict**: Schlüssel-Wert-Paare für strukturierte Daten\n",
    "- **set**: Eindeutige Elemente für Mengenoperationen\n",
    "\n",
    "### Praktische Anwendungen\n",
    "- Produktionsdaten strukturiert verwalten\n",
    "- Qualitätskontrolle mit verschiedenen Datentypen\n",
    "- Datenkonvertierung und -validation\n",
    "\n",
    "### 🔧 VBA vs Python Hauptunterschiede\n",
    "- **Dynamische Typen**: Keine Deklaration nötig\n",
    "- **Collections vs Dictionaries**: Viel mächtiger in Python\n",
    "- **List Comprehensions**: Elegante Datenverarbeitung\n",
    "- **Sets**: Mengenoperationen für eindeutige Daten\n",
    "\n",
    "### 💡 Nächste Schritte\n",
    "Mit diesem Wissen über Datentypen können Sie:\n",
    "- Produktionsdaten strukturiert speichern\n",
    "- Qualitätsmessungen verwalten\n",
    "- Maschinendaten analysieren\n",
    "- Komplexe Datenstrukturen aufbauen\n",
    "\n",
    "**Bereit für [Kapitel 3: NumPy für numerische Berechnungen](../03_numpy/README.md)?** 🚀"
   ]
  }
 ],
 "metadata": {
  "kernelspec": {
   "display_name": "bystronic",
   "language": "python",
   "name": "python3"
  },
  "language_info": {
   "codemirror_mode": {
    "name": "ipython",
    "version": 3
   },
   "file_extension": ".py",
   "mimetype": "text/x-python",
   "name": "python",
   "nbconvert_exporter": "python",
   "pygments_lexer": "ipython3",
   "version": "3.13.1"
  }
 },
 "nbformat": 4,
 "nbformat_minor": 4
}
