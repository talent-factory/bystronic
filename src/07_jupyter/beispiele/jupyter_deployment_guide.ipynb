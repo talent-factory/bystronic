{
 "cells": [
  {
   "cell_type": "markdown",
   "metadata": {},
   "source": [
    "# Jupyter Deployment Guide für Bystronic\n",
    "\n",
    "**Autor:** Daniel Senften  \n",
    "**Zweck:** Anleitung zur Bereitstellung von Jupyter Notebooks für Endanwender\n",
    "\n",
    "Dieses Notebook zeigt verschiedene Deployment-Strategien für Jupyter Notebooks in Produktionsumgebungen."
   ]
  },
  {
   "cell_type": "markdown",
   "metadata": {},
   "source": [
    "## 1. Voilà - Notebooks als Web-Apps"
   ]
  },
  {
   "cell_type": "code",
   "execution_count": null,
   "metadata": {},
   "outputs": [],
   "source": [
    "# Installation von Voilà\n",
    "# !pip install voila\n",
    "\n",
    "import ipywidgets as widgets\n",
    "import numpy as np\n",
    "import pandas as pd\n",
    "import plotly.express as px\n",
    "from IPython.display import display\n",
    "\n",
    "print(\"✅ Voilà-Demo bereit\")"
   ]
  },
  {
   "cell_type": "code",
   "execution_count": null,
   "metadata": {},
   "outputs": [],
   "source": [
    "# Beispiel-Dashboard für Voilà\n",
    "# Maschinendaten generieren\n",
    "np.random.seed(42)\n",
    "machine_data = pd.DataFrame(\n",
    "    {\n",
    "        \"Maschine\": [\"A\", \"B\", \"C\", \"D\"] * 25,\n",
    "        \"Temperatur\": np.random.normal(65, 5, 100),\n",
    "        \"Effizienz\": np.random.normal(85, 10, 100),\n",
    "        \"Status\": np.random.choice([\"Läuft\", \"Wartung\", \"Stillstand\"], 100),\n",
    "    }\n",
    ")\n",
    "\n",
    "\n",
    "# Interactive Dashboard\n",
    "@widgets.interact\n",
    "def machine_dashboard(\n",
    "    maschine=[\"Alle\"] + list(machine_data[\"Maschine\"].unique()),\n",
    "    parameter=[\"Temperatur\", \"Effizienz\"],\n",
    "):\n",
    "    # Daten filtern\n",
    "    if maschine != \"Alle\":\n",
    "        filtered_data = machine_data[machine_data[\"Maschine\"] == maschine]\n",
    "    else:\n",
    "        filtered_data = machine_data\n",
    "\n",
    "    # Plot erstellen\n",
    "    fig = px.box(\n",
    "        filtered_data,\n",
    "        x=\"Maschine\",\n",
    "        y=parameter,\n",
    "        color=\"Status\",\n",
    "        title=f\"{parameter} nach Maschine\",\n",
    "    )\n",
    "    fig.show()\n",
    "\n",
    "    # Statistiken\n",
    "    stats = filtered_data.groupby(\"Maschine\")[parameter].agg([\"mean\", \"std\"]).round(2)\n",
    "    display(stats)"
   ]
  },
  {
   "cell_type": "markdown",
   "metadata": {},
   "source": [
    "## 2. Docker Deployment"
   ]
  },
  {
   "cell_type": "code",
   "execution_count": null,
   "metadata": {},
   "outputs": [],
   "source": [
    "# Docker-Konfiguration für Jupyter\n",
    "dockerfile_content = \"\"\"\n",
    "FROM jupyter/scipy-notebook:latest\n",
    "\n",
    "USER root\n",
    "\n",
    "# System-Abhängigkeiten\n",
    "RUN apt-get update && apt-get install -y \\\n",
    "    build-essential \\\n",
    "    && rm -rf /var/lib/apt/lists/*\n",
    "\n",
    "USER $NB_UID\n",
    "\n",
    "# Python-Pakete\n",
    "COPY requirements.txt /tmp/\n",
    "RUN pip install --no-cache-dir -r /tmp/requirements.txt\n",
    "\n",
    "# Notebooks kopieren\n",
    "COPY notebooks/ /home/jovyan/work/\n",
    "\n",
    "# JupyterLab Extensions\n",
    "RUN jupyter labextension install @jupyter-widgets/jupyterlab-manager\n",
    "\n",
    "EXPOSE 8888\n",
    "\n",
    "CMD [\"start-notebook.sh\", \"--NotebookApp.token=''\"]\n",
    "\"\"\"\n",
    "\n",
    "print(\"🐳 Dockerfile für Jupyter-Deployment:\")\n",
    "print(dockerfile_content)"
   ]
  },
  {
   "cell_type": "markdown",
   "metadata": {},
   "source": [
    "## 3. Sicherheitskonfiguration"
   ]
  },
  {
   "cell_type": "code",
   "execution_count": null,
   "metadata": {},
   "outputs": [],
   "source": [
    "# Jupyter-Sicherheitskonfiguration\n",
    "security_config = \"\"\"\n",
    "# jupyter_notebook_config.py\n",
    "c = get_config()\n",
    "\n",
    "# Sicherheitseinstellungen\n",
    "c.NotebookApp.token = 'bystronic-secure-token-2024'\n",
    "c.NotebookApp.password = 'sha1:...'  # Gehashtes Passwort\n",
    "\n",
    "# HTTPS aktivieren\n",
    "c.NotebookApp.certfile = '/etc/ssl/certs/jupyter.pem'\n",
    "c.NotebookApp.keyfile = '/etc/ssl/private/jupyter.key'\n",
    "\n",
    "# Netzwerk-Konfiguration\n",
    "c.NotebookApp.ip = '0.0.0.0'\n",
    "c.NotebookApp.port = 8888\n",
    "c.NotebookApp.allow_remote_access = True\n",
    "\n",
    "# Arbeitsverzeichnis beschränken\n",
    "c.NotebookApp.notebook_dir = '/opt/bystronic/notebooks'\n",
    "\n",
    "# Kernel-Management\n",
    "c.MappingKernelManager.cull_idle_timeout = 3600\n",
    "c.MappingKernelManager.cull_interval = 300\n",
    "\"\"\"\n",
    "\n",
    "print(\"🔒 Sicherheitskonfiguration:\")\n",
    "print(security_config)"
   ]
  }
 ],
 "metadata": {
  "kernelspec": {
   "display_name": "Python 3",
   "language": "python",
   "name": "python3"
  },
  "language_info": {
   "codemirror_mode": {
    "name": "ipython",
    "version": 3
   },
   "file_extension": ".py",
   "mimetype": "text/x-python",
   "name": "python",
   "nbconvert_exporter": "python",
   "pygments_lexer": "ipython3",
   "version": "3.11.0"
  }
 },
 "nbformat": 4,
 "nbformat_minor": 4
}
