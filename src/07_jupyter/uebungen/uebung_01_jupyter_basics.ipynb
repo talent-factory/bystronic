{
 "cells": [
  {
   "cell_type": "markdown",
   "metadata": {},
   "source": [
    "# Übung 1: Jupyter Notebook Grundlagen\n",
    "\n",
    "**Autor:** Daniel Senften  \n",
    "**Zweck:** Praktische Übungen zu Jupyter Notebook Features\n",
    "\n",
    "## Aufgaben\n",
    "\n",
    "Diese Übung führt Sie durch die wichtigsten Jupyter-Features, die für die tägliche Arbeit bei Bystronic relevant sind."
   ]
  },
  {
   "cell_type": "markdown",
   "metadata": {},
   "source": [
    "## Aufgabe 1: Magic Commands erkunden\n",
    "\n",
    "**Ziel:** Lernen Sie die wichtigsten Magic Commands kennen\n",
    "\n",
    "### 1.1 Zeitmessung\n",
    "Verwenden Sie `%time` und `%timeit` um die Performance verschiedener Operationen zu messen:"
   ]
  },
  {
   "cell_type": "code",
   "execution_count": null,
   "metadata": {},
   "outputs": [],
   "source": [
    "# TODO: Messen Sie die Zeit für eine Liste von 100.000 Quadratzahlen\n",
    "# Verwenden Sie %time für eine einzelne Messung\n",
    "\n",
    "# Ihr Code hier:\n"
   ]
  },
  {
   "cell_type": "code",
   "execution_count": null,
   "metadata": {},
   "outputs": [],
   "source": [
    "# TODO: Verwenden Sie %timeit für genauere Messungen\n",
    "# Vergleichen Sie List Comprehension vs. for-loop\n",
    "\n",
    "# List Comprehension:\n",
    "\n",
    "# For-loop:\n"
   ]
  },
  {
   "cell_type": "markdown",
   "metadata": {},
   "source": [
    "### 1.2 Dateisystem-Operationen\n",
    "Nutzen Sie Magic Commands für Dateisystem-Operationen:"
   ]
  },
  {
   "cell_type": "code",
   "execution_count": null,
   "metadata": {},
   "outputs": [],
   "source": [
    "# TODO: Verwenden Sie %%writefile um ein Python-Skript zu erstellen\n",
    "# Das Skript soll eine Funktion 'calculate_efficiency' enthalten\n",
    "\n"
   ]
  },
  {
   "cell_type": "code",
   "execution_count": null,
   "metadata": {},
   "outputs": [],
   "source": [
    "# TODO: Führen Sie das erstellte Skript mit %run aus\n",
    "\n"
   ]
  },
  {
   "cell_type": "markdown",
   "metadata": {},
   "source": [
    "## Aufgabe 2: Interactive Widgets erstellen\n",
    "\n",
    "**Ziel:** Erstellen Sie ein interaktives Dashboard für Maschinendaten\n",
    "\n",
    "### 2.1 Einfache Widgets"
   ]
  },
  {
   "cell_type": "code",
   "execution_count": null,
   "metadata": {},
   "outputs": [],
   "source": [
    "import ipywidgets as widgets\n",
    "import numpy as np\n",
    "import pandas as pd\n",
    "\n",
    "# Beispieldaten erstellen\n",
    "np.random.seed(42)\n",
    "machine_data = pd.DataFrame(\n",
    "    {\n",
    "        \"timestamp\": pd.date_range(\"2024-01-01\", periods=100, freq=\"h\"),\n",
    "        \"temperature\": np.random.normal(65, 5, 100),\n",
    "        \"pressure\": np.random.normal(8.2, 0.8, 100),\n",
    "        \"efficiency\": np.random.normal(85, 10, 100),\n",
    "    }\n",
    ")\n",
    "\n",
    "print(\"Daten geladen ✅\")"
   ]
  },
  {
   "cell_type": "code",
   "execution_count": null,
   "metadata": {},
   "outputs": [],
   "source": [
    "# TODO: Erstellen Sie ein interaktives Plot-Widget\n",
    "# Verwenden Sie @widgets.interact um Parameter auszuwählen\n",
    "# Parameter: 'temperature', 'pressure', 'efficiency'\n",
    "# Zeitbereich: start_hour (0-99), end_hour (1-100)\n",
    "\n",
    "\n",
    "@widgets.interact\n",
    "def plot_machine_data(\n",
    "    parameter=[\"temperature\", \"pressure\", \"efficiency\"],\n",
    "    start_hour=(0, 99, 1),\n",
    "    end_hour=(1, 100, 1),\n",
    "):\n",
    "    # TODO: Implementieren Sie die Plot-Funktion\n",
    "    # 1. Validierung: start_hour < end_hour\n",
    "    # 2. Daten filtern\n",
    "    # 3. Plot erstellen\n",
    "    # 4. Statistiken anzeigen\n",
    "\n",
    "    pass  # Ersetzen Sie durch Ihren Code"
   ]
  },
  {
   "cell_type": "markdown",
   "metadata": {},
   "source": [
    "### 2.2 Erweiterte Widget-Layouts"
   ]
  },
  {
   "cell_type": "code",
   "execution_count": null,
   "metadata": {},
   "outputs": [],
   "source": [
    "# TODO: Erstellen Sie ein Maschinensteuerungs-Panel\n",
    "# Benötigte Widgets:\n",
    "# - Dropdown für Maschinenauswahl\n",
    "# - Slider für Temperatur (50-80°C)\n",
    "# - Slider für Geschwindigkeit (1-5 m/min)\n",
    "# - Start/Stop Buttons\n",
    "# - Output-Widget für Status\n",
    "\n",
    "\n",
    "class MachineControlPanel:\n",
    "    def __init__(self):\n",
    "        # TODO: Widgets erstellen\n",
    "        pass\n",
    "\n",
    "    def start_machine(self, button):\n",
    "        # TODO: Start-Logik implementieren\n",
    "        pass\n",
    "\n",
    "    def stop_machine(self, button):\n",
    "        # TODO: Stop-Logik implementieren\n",
    "        pass\n",
    "\n",
    "    def display(self):\n",
    "        # TODO: Layout zurückgeben\n",
    "        pass\n",
    "\n",
    "\n",
    "# Panel erstellen und anzeigen\n",
    "# control_panel = MachineControlPanel()\n",
    "# display(control_panel.display())"
   ]
  },
  {
   "cell_type": "markdown",
   "metadata": {},
   "source": [
    "## Aufgabe 3: Performance-Analyse\n",
    "\n",
    "**Ziel:** Analysieren Sie die Performance verschiedener Datenverarbeitungsansätze"
   ]
  },
  {
   "cell_type": "code",
   "execution_count": null,
   "metadata": {},
   "outputs": [],
   "source": [
    "# TODO: Implementieren Sie einen Performance-Vergleich\n",
    "# Vergleichen Sie folgende Methoden für die Berechnung von Quadratzahlen:\n",
    "# 1. List Comprehension\n",
    "# 2. Map Function\n",
    "# 3. NumPy Array\n",
    "# 4. For Loop\n",
    "\n",
    "\n",
    "def performance_comparison(data_size=100000):\n",
    "    \"\"\"Vergleicht Performance verschiedener Implementierungen\"\"\"\n",
    "\n",
    "    test_data = list(range(data_size))\n",
    "    results = {}\n",
    "\n",
    "    # TODO: Implementieren Sie die 4 Methoden\n",
    "    # Messen Sie die Zeit für jede Methode\n",
    "    # Speichern Sie die Ergebnisse in 'results' Dictionary\n",
    "\n",
    "    return results\n",
    "\n",
    "\n",
    "# TODO: Führen Sie den Performance-Test durch\n",
    "# TODO: Visualisieren Sie die Ergebnisse mit Plotly"
   ]
  },
  {
   "cell_type": "markdown",
   "metadata": {},
   "source": [
    "## Aufgabe 4: Datenexport und -dokumentation\n",
    "\n",
    "**Ziel:** Erstellen Sie automatische Export- und Dokumentationsfunktionen"
   ]
  },
  {
   "cell_type": "code",
   "execution_count": null,
   "metadata": {},
   "outputs": [],
   "source": [
    "# TODO: Implementieren Sie eine Export-Funktion\n",
    "# Die Funktion soll:\n",
    "# 1. Maschinendaten als CSV exportieren\n",
    "# 2. Zusammenfassung als JSON speichern\n",
    "# 3. Automatischen Report als HTML generieren\n",
    "\n",
    "\n",
    "def export_analysis_results(data, filename_prefix=\"bystronic_analysis\"):\n",
    "    \"\"\"Exportiert Analyseergebnisse in verschiedenen Formaten\"\"\"\n",
    "\n",
    "    from datetime import datetime\n",
    "\n",
    "    timestamp = datetime.now().strftime(\"%Y%m%d_%H%M%S\")\n",
    "\n",
    "    # TODO: CSV-Export implementieren\n",
    "\n",
    "    # TODO: JSON-Zusammenfassung erstellen\n",
    "\n",
    "    # TODO: HTML-Report generieren\n",
    "\n",
    "    pass\n",
    "\n",
    "\n",
    "# TODO: Testen Sie die Export-Funktion"
   ]
  },
  {
   "cell_type": "markdown",
   "metadata": {},
   "source": [
    "## Aufgabe 5: Notebook-Sicherheit\n",
    "\n",
    "**Ziel:** Implementieren Sie Sicherheitsmaßnahmen für Produktionsumgebungen"
   ]
  },
  {
   "cell_type": "code",
   "execution_count": null,
   "metadata": {},
   "outputs": [],
   "source": [
    "# TODO: Erstellen Sie eine Funktion zur Code-Validierung\n",
    "# Die Funktion soll gefährliche Befehle erkennen und blockieren\n",
    "\n",
    "\n",
    "def validate_code(code_string):\n",
    "    \"\"\"Validiert Code auf Sicherheitsrisiken\"\"\"\n",
    "\n",
    "    dangerous_patterns = [\"import os\", \"subprocess\", \"!rm\", \"!sudo\", \"eval(\", \"exec(\"]\n",
    "\n",
    "    # TODO: Implementieren Sie die Validierungslogik\n",
    "    # Rückgabe: (is_safe: bool, warnings: list)\n",
    "\n",
    "    pass\n",
    "\n",
    "\n",
    "# TODO: Testen Sie die Validierungsfunktion mit verschiedenen Code-Beispielen"
   ]
  },
  {
   "cell_type": "markdown",
   "metadata": {},
   "source": [
    "## Reflexion und Dokumentation\n",
    "\n",
    "**Beantworten Sie folgende Fragen:**\n",
    "\n",
    "1. Welche Magic Commands fanden Sie am nützlichsten und warum?\n",
    "\n",
    "2. Wie können Interactive Widgets die Benutzererfahrung für Endanwender verbessern?\n",
    "\n",
    "3. Welche Performance-Optimierungen sind für große Datensätze wichtig?\n",
    "\n",
    "4. Welche Sicherheitsaspekte müssen bei der Bereitstellung von Notebooks beachtet werden?\n",
    "\n",
    "5. Wie würden Sie ein Jupyter-Deployment für Bystronic-Kunden strukturieren?\n",
    "\n",
    "### Ihre Antworten:\n",
    "\n",
    "**1. Magic Commands:**\n",
    "<!-- Ihre Antwort hier -->\n",
    "\n",
    "**2. Interactive Widgets:**\n",
    "<!-- Ihre Antwort hier -->\n",
    "\n",
    "**3. Performance-Optimierungen:**\n",
    "<!-- Ihre Antwort hier -->\n",
    "\n",
    "**4. Sicherheitsaspekte:**\n",
    "<!-- Ihre Antwort hier -->\n",
    "\n",
    "**5. Deployment-Struktur:**\n",
    "<!-- Ihre Antwort hier -->"
   ]
  }
 ],
 "metadata": {
  "kernelspec": {
   "display_name": "Python 3",
   "language": "python",
   "name": "python3"
  },
  "language_info": {
   "codemirror_mode": {
    "name": "ipython",
    "version": 3
   },
   "file_extension": ".py",
   "mimetype": "text/x-python",
   "name": "python",
   "nbconvert_exporter": "python",
   "pygments_lexer": "ipython3",
   "version": "3.11.0"
  }
 },
 "nbformat": 4,
 "nbformat_minor": 4
}
